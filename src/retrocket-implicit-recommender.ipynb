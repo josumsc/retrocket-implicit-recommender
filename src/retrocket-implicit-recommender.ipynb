{
 "cells": [
  {
   "cell_type": "markdown",
   "source": [
    "# Implicit Recommender with ALS: The Rocket of Retail"
   ],
   "metadata": {
    "collapsed": false,
    "pycharm": {
     "name": "#%% md\n"
    }
   }
  },
  {
   "cell_type": "markdown",
   "metadata": {
    "collapsed": true,
    "pycharm": {
     "name": "#%% md\n"
    }
   },
   "source": [
    "When data is available, we can use it to build a recommender system based on the reviews left by our customers to\n",
    "their favorite products. An example of this use case can be found at [this repository using the MovieLens dataset](\n",
    "https://github.com/josumsc/movielens-recommender).\n",
    "\n",
    "Nevertheless, we are often faced with the problem of building a recommender system without any explicit feedback from the\n",
    "user, which is a common problem in the industry. Sometimes users are not able or willing to leave a  review, but are well\n",
    "aware of their preferences. These preferences manifest by visiting the product page,  adding those products to our cart\n",
    "or purchasing the product.\n",
    "\n",
    "In this notebook, we expect to give clarity to the use of these kind of datasets based on implicit feedback to build a\n",
    "recommender system that can be used to enhance the user experience."
   ]
  },
  {
   "cell_type": "code",
   "execution_count": 2,
   "outputs": [
    {
     "name": "stderr",
     "output_type": "stream",
     "text": [
      "/Users/josualonso/miniforge3/envs/implicit-recommender/lib/python3.9/site-packages/tqdm/auto.py:22: TqdmWarning: IProgress not found. Please update jupyter and ipywidgets. See https://ipywidgets.readthedocs.io/en/stable/user_install.html\n",
      "  from .autonotebook import tqdm as notebook_tqdm\n"
     ]
    }
   ],
   "source": [
    "import pandas as pd\n",
    "import matplotlib.pyplot as plt\n",
    "import implicit"
   ],
   "metadata": {
    "collapsed": false,
    "pycharm": {
     "name": "#%%\n"
    }
   }
  },
  {
   "cell_type": "code",
   "execution_count": null,
   "outputs": [],
   "source": [],
   "metadata": {
    "collapsed": false,
    "pycharm": {
     "name": "#%%\n"
    }
   }
  }
 ],
 "metadata": {
  "kernelspec": {
   "display_name": "Python 3",
   "language": "python",
   "name": "python3"
  },
  "language_info": {
   "codemirror_mode": {
    "name": "ipython",
    "version": 2
   },
   "file_extension": ".py",
   "mimetype": "text/x-python",
   "name": "python",
   "nbconvert_exporter": "python",
   "pygments_lexer": "ipython2",
   "version": "2.7.6"
  }
 },
 "nbformat": 4,
 "nbformat_minor": 0
}